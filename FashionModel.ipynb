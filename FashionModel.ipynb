{
 "cells": [
  {
   "cell_type": "markdown",
   "metadata": {
    "colab_type": "text",
    "id": "view-in-github"
   },
   "source": [
    "<a href=\"https://colab.research.google.com/github/Oluwatobi02/Fashionmodel/blob/main/FashionModel.ipynb\" target=\"_parent\"><img src=\"https://colab.research.google.com/assets/colab-badge.svg\" alt=\"Open In Colab\"/></a>"
   ]
  },
  {
   "cell_type": "code",
   "execution_count": 2,
   "metadata": {
    "colab": {
     "base_uri": "https://localhost:8080/"
    },
    "id": "JLboQUZHOYrL",
    "outputId": "9ee6e7b0-9222-44ef-9e9b-6d56dd7e190f"
   },
   "outputs": [
    {
     "name": "stdout",
     "output_type": "stream",
     "text": [
      "Requirement already satisfied: torch in ./venv/lib/python3.12/site-packages (2.5.1)\n",
      "Requirement already satisfied: transformers in ./venv/lib/python3.12/site-packages (4.47.0)\n",
      "Requirement already satisfied: pillow in ./venv/lib/python3.12/site-packages (11.0.0)\n",
      "Requirement already satisfied: matplotlib in ./venv/lib/python3.12/site-packages (3.9.3)\n",
      "Requirement already satisfied: fastcore in ./venv/lib/python3.12/site-packages (1.7.26)\n",
      "Requirement already satisfied: fastai in ./venv/lib/python3.12/site-packages (2.7.18)\n",
      "Requirement already satisfied: duckduckgo-search in ./venv/lib/python3.12/site-packages (6.4.1)\n"
     ]
    },
    {
     "name": "stdout",
     "output_type": "stream",
     "text": [
      "Requirement already satisfied: filelock in ./venv/lib/python3.12/site-packages (from torch) (3.16.1)\n",
      "Requirement already satisfied: typing-extensions>=4.8.0 in ./venv/lib/python3.12/site-packages (from torch) (4.12.2)\n",
      "Requirement already satisfied: networkx in ./venv/lib/python3.12/site-packages (from torch) (3.4.2)\n",
      "Requirement already satisfied: jinja2 in ./venv/lib/python3.12/site-packages (from torch) (3.1.4)\n",
      "Requirement already satisfied: fsspec in ./venv/lib/python3.12/site-packages (from torch) (2024.9.0)\n",
      "Requirement already satisfied: nvidia-cuda-nvrtc-cu12==12.4.127 in ./venv/lib/python3.12/site-packages (from torch) (12.4.127)\n",
      "Requirement already satisfied: nvidia-cuda-runtime-cu12==12.4.127 in ./venv/lib/python3.12/site-packages (from torch) (12.4.127)\n",
      "Requirement already satisfied: nvidia-cuda-cupti-cu12==12.4.127 in ./venv/lib/python3.12/site-packages (from torch) (12.4.127)\n",
      "Requirement already satisfied: nvidia-cudnn-cu12==9.1.0.70 in ./venv/lib/python3.12/site-packages (from torch) (9.1.0.70)\n",
      "Requirement already satisfied: nvidia-cublas-cu12==12.4.5.8 in ./venv/lib/python3.12/site-packages (from torch) (12.4.5.8)\n",
      "Requirement already satisfied: nvidia-cufft-cu12==11.2.1.3 in ./venv/lib/python3.12/site-packages (from torch) (11.2.1.3)\n",
      "Requirement already satisfied: nvidia-curand-cu12==10.3.5.147 in ./venv/lib/python3.12/site-packages (from torch) (10.3.5.147)\n",
      "Requirement already satisfied: nvidia-cusolver-cu12==11.6.1.9 in ./venv/lib/python3.12/site-packages (from torch) (11.6.1.9)\n",
      "Requirement already satisfied: nvidia-cusparse-cu12==12.3.1.170 in ./venv/lib/python3.12/site-packages (from torch) (12.3.1.170)\n",
      "Requirement already satisfied: nvidia-nccl-cu12==2.21.5 in ./venv/lib/python3.12/site-packages (from torch) (2.21.5)\n",
      "Requirement already satisfied: nvidia-nvtx-cu12==12.4.127 in ./venv/lib/python3.12/site-packages (from torch) (12.4.127)\n",
      "Requirement already satisfied: nvidia-nvjitlink-cu12==12.4.127 in ./venv/lib/python3.12/site-packages (from torch) (12.4.127)\n",
      "Requirement already satisfied: triton==3.1.0 in ./venv/lib/python3.12/site-packages (from torch) (3.1.0)\n",
      "Requirement already satisfied: setuptools in ./venv/lib/python3.12/site-packages (from torch) (75.6.0)\n",
      "Requirement already satisfied: sympy==1.13.1 in ./venv/lib/python3.12/site-packages (from torch) (1.13.1)\n",
      "Requirement already satisfied: mpmath<1.4,>=1.1.0 in ./venv/lib/python3.12/site-packages (from sympy==1.13.1->torch) (1.3.0)\n",
      "Requirement already satisfied: huggingface-hub<1.0,>=0.24.0 in ./venv/lib/python3.12/site-packages (from transformers) (0.26.5)\n",
      "Requirement already satisfied: numpy>=1.17 in ./venv/lib/python3.12/site-packages (from transformers) (2.0.2)\n",
      "Requirement already satisfied: packaging>=20.0 in ./venv/lib/python3.12/site-packages (from transformers) (24.2)\n",
      "Requirement already satisfied: pyyaml>=5.1 in ./venv/lib/python3.12/site-packages (from transformers) (6.0.2)\n",
      "Requirement already satisfied: regex!=2019.12.17 in ./venv/lib/python3.12/site-packages (from transformers) (2024.11.6)\n",
      "Requirement already satisfied: requests in ./venv/lib/python3.12/site-packages (from transformers) (2.32.3)\n",
      "Requirement already satisfied: tokenizers<0.22,>=0.21 in ./venv/lib/python3.12/site-packages (from transformers) (0.21.0)\n",
      "Requirement already satisfied: safetensors>=0.4.1 in ./venv/lib/python3.12/site-packages (from transformers) (0.4.5)\n",
      "Requirement already satisfied: tqdm>=4.27 in ./venv/lib/python3.12/site-packages (from transformers) (4.67.1)\n",
      "Requirement already satisfied: contourpy>=1.0.1 in ./venv/lib/python3.12/site-packages (from matplotlib) (1.3.1)\n",
      "Requirement already satisfied: cycler>=0.10 in ./venv/lib/python3.12/site-packages (from matplotlib) (0.12.1)\n",
      "Requirement already satisfied: fonttools>=4.22.0 in ./venv/lib/python3.12/site-packages (from matplotlib) (4.55.3)\n",
      "Requirement already satisfied: kiwisolver>=1.3.1 in ./venv/lib/python3.12/site-packages (from matplotlib) (1.4.7)\n",
      "Requirement already satisfied: pyparsing>=2.3.1 in ./venv/lib/python3.12/site-packages (from matplotlib) (3.2.0)\n",
      "Requirement already satisfied: python-dateutil>=2.7 in ./venv/lib/python3.12/site-packages (from matplotlib) (2.9.0.post0)\n",
      "Requirement already satisfied: pip in ./venv/lib/python3.12/site-packages (from fastai) (23.2.1)\n",
      "Requirement already satisfied: fastdownload<2,>=0.0.5 in ./venv/lib/python3.12/site-packages (from fastai) (0.0.7)\n",
      "Requirement already satisfied: torchvision>=0.11 in ./venv/lib/python3.12/site-packages (from fastai) (0.20.1)\n",
      "Requirement already satisfied: pandas in ./venv/lib/python3.12/site-packages (from fastai) (2.2.3)\n",
      "Requirement already satisfied: fastprogress>=0.2.4 in ./venv/lib/python3.12/site-packages (from fastai) (1.0.3)\n",
      "Requirement already satisfied: scikit-learn in ./venv/lib/python3.12/site-packages (from fastai) (1.6.0)\n",
      "Requirement already satisfied: scipy in ./venv/lib/python3.12/site-packages (from fastai) (1.14.1)\n",
      "Requirement already satisfied: spacy<4 in ./venv/lib/python3.12/site-packages (from fastai) (3.8.2)\n",
      "Requirement already satisfied: click>=8.1.7 in ./venv/lib/python3.12/site-packages (from duckduckgo-search) (8.1.7)\n",
      "Requirement already satisfied: primp>=0.8.3 in ./venv/lib/python3.12/site-packages (from duckduckgo-search) (0.8.3)\n",
      "Requirement already satisfied: six>=1.5 in ./venv/lib/python3.12/site-packages (from python-dateutil>=2.7->matplotlib) (1.17.0)\n",
      "Requirement already satisfied: spacy-legacy<3.1.0,>=3.0.11 in ./venv/lib/python3.12/site-packages (from spacy<4->fastai) (3.0.12)\n",
      "Requirement already satisfied: spacy-loggers<2.0.0,>=1.0.0 in ./venv/lib/python3.12/site-packages (from spacy<4->fastai) (1.0.5)\n",
      "Requirement already satisfied: murmurhash<1.1.0,>=0.28.0 in ./venv/lib/python3.12/site-packages (from spacy<4->fastai) (1.0.11)\n",
      "Requirement already satisfied: cymem<2.1.0,>=2.0.2 in ./venv/lib/python3.12/site-packages (from spacy<4->fastai) (2.0.10)\n",
      "Requirement already satisfied: preshed<3.1.0,>=3.0.2 in ./venv/lib/python3.12/site-packages (from spacy<4->fastai) (3.0.9)\n",
      "Requirement already satisfied: thinc<8.4.0,>=8.3.0 in ./venv/lib/python3.12/site-packages (from spacy<4->fastai) (8.3.2)\n",
      "Requirement already satisfied: wasabi<1.2.0,>=0.9.1 in ./venv/lib/python3.12/site-packages (from spacy<4->fastai) (1.1.3)\n",
      "Requirement already satisfied: srsly<3.0.0,>=2.4.3 in ./venv/lib/python3.12/site-packages (from spacy<4->fastai) (2.5.0)\n",
      "Requirement already satisfied: catalogue<2.1.0,>=2.0.6 in ./venv/lib/python3.12/site-packages (from spacy<4->fastai) (2.0.10)\n",
      "Requirement already satisfied: weasel<0.5.0,>=0.1.0 in ./venv/lib/python3.12/site-packages (from spacy<4->fastai) (0.4.1)\n",
      "Requirement already satisfied: typer<1.0.0,>=0.3.0 in ./venv/lib/python3.12/site-packages (from spacy<4->fastai) (0.15.1)\n",
      "Requirement already satisfied: pydantic!=1.8,!=1.8.1,<3.0.0,>=1.7.4 in ./venv/lib/python3.12/site-packages (from spacy<4->fastai) (2.10.3)\n",
      "Requirement already satisfied: langcodes<4.0.0,>=3.2.0 in ./venv/lib/python3.12/site-packages (from spacy<4->fastai) (3.5.0)\n",
      "Requirement already satisfied: charset-normalizer<4,>=2 in ./venv/lib/python3.12/site-packages (from requests->transformers) (3.4.0)\n",
      "Requirement already satisfied: idna<4,>=2.5 in ./venv/lib/python3.12/site-packages (from requests->transformers) (3.10)\n",
      "Requirement already satisfied: urllib3<3,>=1.21.1 in ./venv/lib/python3.12/site-packages (from requests->transformers) (2.2.3)\n",
      "Requirement already satisfied: certifi>=2017.4.17 in ./venv/lib/python3.12/site-packages (from requests->transformers) (2024.8.30)\n",
      "Requirement already satisfied: MarkupSafe>=2.0 in ./venv/lib/python3.12/site-packages (from jinja2->torch) (3.0.2)\n",
      "Requirement already satisfied: pytz>=2020.1 in ./venv/lib/python3.12/site-packages (from pandas->fastai) (2024.2)\n",
      "Requirement already satisfied: tzdata>=2022.7 in ./venv/lib/python3.12/site-packages (from pandas->fastai) (2024.2)\n",
      "Requirement already satisfied: joblib>=1.2.0 in ./venv/lib/python3.12/site-packages (from scikit-learn->fastai) (1.4.2)\n",
      "Requirement already satisfied: threadpoolctl>=3.1.0 in ./venv/lib/python3.12/site-packages (from scikit-learn->fastai) (3.5.0)\n",
      "Requirement already satisfied: language-data>=1.2 in ./venv/lib/python3.12/site-packages (from langcodes<4.0.0,>=3.2.0->spacy<4->fastai) (1.3.0)\n",
      "Requirement already satisfied: annotated-types>=0.6.0 in ./venv/lib/python3.12/site-packages (from pydantic!=1.8,!=1.8.1,<3.0.0,>=1.7.4->spacy<4->fastai) (0.7.0)\n",
      "Requirement already satisfied: pydantic-core==2.27.1 in ./venv/lib/python3.12/site-packages (from pydantic!=1.8,!=1.8.1,<3.0.0,>=1.7.4->spacy<4->fastai) (2.27.1)\n",
      "Requirement already satisfied: blis<1.1.0,>=1.0.0 in ./venv/lib/python3.12/site-packages (from thinc<8.4.0,>=8.3.0->spacy<4->fastai) (1.0.2)\n",
      "Requirement already satisfied: confection<1.0.0,>=0.0.1 in ./venv/lib/python3.12/site-packages (from thinc<8.4.0,>=8.3.0->spacy<4->fastai) (0.1.5)\n",
      "Requirement already satisfied: shellingham>=1.3.0 in ./venv/lib/python3.12/site-packages (from typer<1.0.0,>=0.3.0->spacy<4->fastai) (1.5.4)\n",
      "Requirement already satisfied: rich>=10.11.0 in ./venv/lib/python3.12/site-packages (from typer<1.0.0,>=0.3.0->spacy<4->fastai) (13.9.4)\n",
      "Requirement already satisfied: cloudpathlib<1.0.0,>=0.7.0 in ./venv/lib/python3.12/site-packages (from weasel<0.5.0,>=0.1.0->spacy<4->fastai) (0.20.0)\n",
      "Requirement already satisfied: smart-open<8.0.0,>=5.2.1 in ./venv/lib/python3.12/site-packages (from weasel<0.5.0,>=0.1.0->spacy<4->fastai) (7.0.5)\n",
      "Requirement already satisfied: marisa-trie>=1.1.0 in ./venv/lib/python3.12/site-packages (from language-data>=1.2->langcodes<4.0.0,>=3.2.0->spacy<4->fastai) (1.2.1)\n",
      "Requirement already satisfied: markdown-it-py>=2.2.0 in ./venv/lib/python3.12/site-packages (from rich>=10.11.0->typer<1.0.0,>=0.3.0->spacy<4->fastai) (3.0.0)\n",
      "Requirement already satisfied: pygments<3.0.0,>=2.13.0 in ./venv/lib/python3.12/site-packages (from rich>=10.11.0->typer<1.0.0,>=0.3.0->spacy<4->fastai) (2.18.0)\n",
      "Requirement already satisfied: wrapt in ./venv/lib/python3.12/site-packages (from smart-open<8.0.0,>=5.2.1->weasel<0.5.0,>=0.1.0->spacy<4->fastai) (1.17.0)\n",
      "Requirement already satisfied: mdurl~=0.1 in ./venv/lib/python3.12/site-packages (from markdown-it-py>=2.2.0->rich>=10.11.0->typer<1.0.0,>=0.3.0->spacy<4->fastai) (0.1.2)\n",
      "\n",
      "\u001b[1m[\u001b[0m\u001b[34;49mnotice\u001b[0m\u001b[1;39;49m]\u001b[0m\u001b[39;49m A new release of pip is available: \u001b[0m\u001b[31;49m23.2.1\u001b[0m\u001b[39;49m -> \u001b[0m\u001b[32;49m24.3.1\u001b[0m\n",
      "\u001b[1m[\u001b[0m\u001b[34;49mnotice\u001b[0m\u001b[1;39;49m]\u001b[0m\u001b[39;49m To update, run: \u001b[0m\u001b[32;49mpip install --upgrade pip\u001b[0m\n"
     ]
    }
   ],
   "source": [
    "!pip install torch transformers pillow matplotlib fastcore fastai duckduckgo-search"
   ]
  },
  {
   "cell_type": "code",
   "execution_count": 9,
   "metadata": {
    "id": "RhUhGzhzOco_"
   },
   "outputs": [],
   "source": [
    "from transformers import SegformerImageProcessor, AutoModelForSemanticSegmentation\n",
    "from PIL import Image\n",
    "import requests\n",
    "import numpy as np\n",
    "import pandas as pd\n",
    "import matplotlib.pyplot as plt\n",
    "import torch.nn as nn\n",
    "from duckduckgo_search import DDGS #DuckDuckGo has changed the api so we need to update \n",
    "from fastcore.all import *\n",
    "from fastdownload import download_url\n",
    "from fastai.vision.all import *\n",
    "import time, json"
   ]
  },
  {
   "cell_type": "code",
   "execution_count": 44,
   "metadata": {
    "id": "ciRA2nDNOgqi"
   },
   "outputs": [],
   "source": [
    "processor = SegformerImageProcessor.from_pretrained(\"sayeed99/segformer-b3-fashion\")\n",
    "model = AutoModelForSemanticSegmentation.from_pretrained(\"sayeed99/segformer-b3-fashion\")"
   ]
  },
  {
   "cell_type": "code",
   "execution_count": 11,
   "metadata": {},
   "outputs": [],
   "source": [
    "def search_images(keywords, max_images=200): \n",
    "    return L(DDGS().images(keywords, max_results=max_images)).itemgot('image')\n"
   ]
  },
  {
   "cell_type": "code",
   "execution_count": null,
   "metadata": {},
   "outputs": [],
   "source": []
  },
  {
   "cell_type": "code",
   "execution_count": null,
   "metadata": {},
   "outputs": [],
   "source": []
  },
  {
   "cell_type": "code",
   "execution_count": null,
   "metadata": {},
   "outputs": [],
   "source": []
  },
  {
   "cell_type": "code",
   "execution_count": null,
   "metadata": {
    "id": "1UAY0WvKOjig"
   },
   "outputs": [],
   "source": [
    "url = \"/content/img.jpg\"\n",
    "\n",
    "image = Image.open(url)\n",
    "inputs = processor(images=image, return_tensors=\"pt\")"
   ]
  },
  {
   "cell_type": "code",
   "execution_count": null,
   "metadata": {
    "id": "fY9F_YqYPapp"
   },
   "outputs": [],
   "source": [
    "image"
   ]
  },
  {
   "cell_type": "code",
   "execution_count": null,
   "metadata": {
    "id": "djGBInVrOqwx"
   },
   "outputs": [],
   "source": [
    "outputs = model(**inputs)\n",
    "logits = outputs.logits.cpu()\n",
    "\n",
    "upsampled_logits = nn.functional.interpolate(\n",
    "    logits,\n",
    "    size=image.size[::-1],\n",
    "    mode=\"bilinear\",\n",
    "    align_corners=False,\n",
    ")"
   ]
  },
  {
   "cell_type": "code",
   "execution_count": null,
   "metadata": {
    "id": "LLUNYgY1OtbF"
   },
   "outputs": [],
   "source": [
    "pred_seg = upsampled_logits.argmax(dim=1)[0]"
   ]
  },
  {
   "cell_type": "code",
   "execution_count": null,
   "metadata": {
    "colab": {
     "base_uri": "https://localhost:8080/",
     "height": 451
    },
    "id": "gdwkQbVcOvNc",
    "outputId": "8c4d68dd-67c5-4610-dc8b-a9fdfc5450f0"
   },
   "outputs": [
    {
     "data": {
      "text/plain": [
       "<matplotlib.image.AxesImage at 0x7a6322245150>"
      ]
     },
     "execution_count": 28,
     "metadata": {},
     "output_type": "execute_result"
    },
    {
     "data": {
      "image/png": "[encoded data removed]",
      "text/plain": [
       "<Figure size 640x480 with 1 Axes>"
      ]
     },
     "metadata": {},
     "output_type": "display_data"
    }
   ],
   "source": [
    "plt.imshow(pred_seg)"
   ]
  },
  {
   "cell_type": "code",
   "execution_count": null,
   "metadata": {
    "id": "XIqjAsQTPopE"
   },
   "outputs": [],
   "source": [
    "import numpy as np\n",
    "unique_cat = np.unique(pred_seg.cpu().numpy())"
   ]
  },
  {
   "cell_type": "code",
   "execution_count": 45,
   "metadata": {
    "id": "7SC7tTgGQpmo"
   },
   "outputs": [],
   "source": [
    "categories = model.config.id2label"
   ]
  },
  {
   "cell_type": "code",
   "execution_count": null,
   "metadata": {
    "colab": {
     "base_uri": "https://localhost:8080/"
    },
    "id": "2HuXjWaJRrLh",
    "outputId": "21ca1c8f-66ae-4044-e735-7f64e305351c"
   },
   "outputs": [
    {
     "name": "stdout",
     "output_type": "stream",
     "text": [
      "unlabelled\n",
      "top, t-shirt, sweatshirt\n",
      "collar\n",
      "sleeve\n",
      "neckline\n"
     ]
    }
   ],
   "source": [
    "for i in unique_cat:\n",
    "  print(categories[i])"
   ]
  },
  {
   "cell_type": "code",
   "execution_count": null,
   "metadata": {
    "colab": {
     "base_uri": "https://localhost:8080/"
    },
    "id": "WRo48HCwR0in",
    "outputId": "6dde5ab6-e132-4f6d-a4e4-f54247b0ae47"
   },
   "outputs": [
    {
     "data": {
      "text/plain": [
       "dict_values(['unlabelled', 'shirt, blouse', 'top, t-shirt, sweatshirt', 'sweater', 'cardigan', 'jacket', 'vest', 'pants', 'shorts', 'skirt', 'coat', 'dress', 'jumpsuit', 'cape', 'glasses', 'hat', 'headband, head covering, hair accessory', 'tie', 'glove', 'watch', 'belt', 'leg warmer', 'tights, stockings', 'sock', 'shoe', 'bag, wallet', 'scarf', 'umbrella', 'hood', 'collar', 'lapel', 'epaulette', 'sleeve', 'pocket', 'neckline', 'buckle', 'zipper', 'applique', 'bead', 'bow', 'flower', 'fringe', 'ribbon', 'rivet', 'ruffle', 'sequin', 'tassel'])"
      ]
     },
     "execution_count": 12,
     "metadata": {},
     "output_type": "execute_result"
    }
   ],
   "source": [
    "categories.values()"
   ]
  },
  {
   "cell_type": "code",
   "execution_count": null,
   "metadata": {
    "colab": {
     "base_uri": "https://localhost:8080/"
    },
    "id": "tU59XsYsUbPt",
    "outputId": "c5f6f523-1aec-4208-d01b-cba70e8102cb"
   },
   "outputs": [
    {
     "name": "stdout",
     "output_type": "stream",
     "text": [
      "Answer: blue\n"
     ]
    }
   ],
   "source": [
    "from transformers import ViltProcessor, ViltForQuestionAnswering\n",
    "import requests\n",
    "from PIL import Image\n",
    "\n",
    "# prepare image + question\n",
    "image = Image.open('/content/IMG_8303.jpg')\n",
    "text = \"what is the color of the socks?\"\n",
    "\n",
    "processor = ViltProcessor.from_pretrained(\"yanka9/vilt_finetuned_deepfashionVQA_v2\")\n",
    "model = ViltForQuestionAnswering.from_pretrained(\"yanka9/vilt_finetuned_deepfashionVQA_v2\")\n",
    "\n",
    "# prepare inputs\n",
    "encoding = processor(image, text, return_tensors=\"pt\")\n",
    "\n",
    "# forward pass\n",
    "outputs = model(**encoding)\n",
    "logits = outputs.logits\n",
    "idx = logits.argmax(-1).item()\n",
    "print(\"Answer:\", model.config.id2label[idx])\n"
   ]
  },
  {
   "cell_type": "code",
   "execution_count": 14,
   "metadata": {
    "id": "zqHwO0BdwwSw"
   },
   "outputs": [
    {
     "data": {
      "text/html": [
       "<div>\n",
       "<style scoped>\n",
       "    .dataframe tbody tr th:only-of-type {\n",
       "        vertical-align: middle;\n",
       "    }\n",
       "\n",
       "    .dataframe tbody tr th {\n",
       "        vertical-align: top;\n",
       "    }\n",
       "\n",
       "    .dataframe thead th {\n",
       "        text-align: right;\n",
       "    }\n",
       "</style>\n",
       "<table border=\"1\" class=\"dataframe\">\n",
       "  <thead>\n",
       "    <tr style=\"text-align: right;\">\n",
       "      <th></th>\n",
       "      <th>File Name</th>\n",
       "      <th>Item1_Type</th>\n",
       "      <th>Item1_Color</th>\n",
       "      <th>Item1_Style</th>\n",
       "      <th>Item2_Type</th>\n",
       "      <th>Item2_Color</th>\n",
       "      <th>Item2_Style</th>\n",
       "      <th>Item3_Type</th>\n",
       "      <th>Item3_Color</th>\n",
       "      <th>Item3_Style</th>\n",
       "      <th>Item4_Type</th>\n",
       "      <th>Item4_Color</th>\n",
       "      <th>Item4_Style</th>\n",
       "      <th>Item5_Type</th>\n",
       "      <th>Item5_Color</th>\n",
       "      <th>Item5_Style</th>\n",
       "      <th>Validity</th>\n",
       "      <th>Rating</th>\n",
       "    </tr>\n",
       "  </thead>\n",
       "  <tbody>\n",
       "    <tr>\n",
       "      <th>0</th>\n",
       "      <td>combo1.jpg</td>\n",
       "      <td>Shirt</td>\n",
       "      <td>Blue</td>\n",
       "      <td>Casual</td>\n",
       "      <td>Pants</td>\n",
       "      <td>Black</td>\n",
       "      <td>Formal</td>\n",
       "      <td>None</td>\n",
       "      <td>None</td>\n",
       "      <td>None</td>\n",
       "      <td>None</td>\n",
       "      <td>None</td>\n",
       "      <td>None</td>\n",
       "      <td>None</td>\n",
       "      <td>None</td>\n",
       "      <td>None</td>\n",
       "      <td>1</td>\n",
       "      <td>8</td>\n",
       "    </tr>\n",
       "    <tr>\n",
       "      <th>1</th>\n",
       "      <td>combo2.jpg</td>\n",
       "      <td>Hoodie</td>\n",
       "      <td>Grey</td>\n",
       "      <td>Casual</td>\n",
       "      <td>Jeans</td>\n",
       "      <td>Dark Blue</td>\n",
       "      <td>Casual</td>\n",
       "      <td>Watch</td>\n",
       "      <td>Silver</td>\n",
       "      <td>Formal</td>\n",
       "      <td>None</td>\n",
       "      <td>None</td>\n",
       "      <td>None</td>\n",
       "      <td>None</td>\n",
       "      <td>None</td>\n",
       "      <td>None</td>\n",
       "      <td>0</td>\n",
       "      <td>4</td>\n",
       "    </tr>\n",
       "  </tbody>\n",
       "</table>\n",
       "</div>"
      ],
      "text/plain": [
       "    File Name Item1_Type Item1_Color Item1_Style Item2_Type Item2_Color  \\\n",
       "0  combo1.jpg      Shirt        Blue      Casual      Pants       Black   \n",
       "1  combo2.jpg     Hoodie        Grey      Casual      Jeans   Dark Blue   \n",
       "\n",
       "  Item2_Style Item3_Type Item3_Color Item3_Style Item4_Type Item4_Color  \\\n",
       "0      Formal       None        None        None       None        None   \n",
       "1      Casual      Watch      Silver      Formal       None        None   \n",
       "\n",
       "  Item4_Style Item5_Type Item5_Color Item5_Style  Validity  Rating  \n",
       "0        None       None        None        None         1       8  \n",
       "1        None       None        None        None         0       4  "
      ]
     },
     "execution_count": 14,
     "metadata": {},
     "output_type": "execute_result"
    }
   ],
   "source": [
    "import pandas as pd\n",
    "\n",
    "# Example data: list of combinations\n",
    "data = [\n",
    "    {\n",
    "        \"File Name\": \"combo1.jpg\",\n",
    "        \"Items\": [\n",
    "            {\"Type\": \"Shirt\", \"Color\": \"Blue\", \"Style\": \"Casual\"},\n",
    "            {\"Type\": \"Pants\", \"Color\": \"Black\", \"Style\": \"Formal\"}\n",
    "        ],\n",
    "        \"Validity\": \"Valid\",\n",
    "        \"Rating\": 8\n",
    "    },\n",
    "    {\n",
    "        \"File Name\": \"combo2.jpg\",\n",
    "        \"Items\": [\n",
    "            {\"Type\": \"Hoodie\", \"Color\": \"Grey\", \"Style\": \"Casual\"},\n",
    "            {\"Type\": \"Jeans\", \"Color\": \"Dark Blue\", \"Style\": \"Casual\"},\n",
    "            {\"Type\": \"Watch\", \"Color\": \"Silver\", \"Style\": \"Formal\"}\n",
    "        ],\n",
    "        \"Validity\": \"Invalid\",\n",
    "        \"Rating\": 4\n",
    "    }\n",
    "]\n",
    "df = pd.DataFrame(data)\n",
    "# Define max number of items\n",
    "max_items = 5\n",
    "\n",
    "# Initialize structured rows\n",
    "structured_data = []\n",
    "for combo in data:\n",
    "    row = {\"File Name\": combo[\"File Name\"]}\n",
    "    # Add each item's attributes to fixed columns\n",
    "    for i in range(max_items):\n",
    "        if i < len(combo[\"Items\"]):  # Populate existing items\n",
    "            item = combo[\"Items\"][i]\n",
    "            row[f\"Item{i+1}_Type\"] = item[\"Type\"]\n",
    "            row[f\"Item{i+1}_Color\"] = item[\"Color\"]\n",
    "            row[f\"Item{i+1}_Style\"] = item[\"Style\"]\n",
    "        else:  # Fill placeholders for missing items\n",
    "            row[f\"Item{i+1}_Type\"] = \"None\"\n",
    "            row[f\"Item{i+1}_Color\"] = \"None\"\n",
    "            row[f\"Item{i+1}_Style\"] = \"None\"\n",
    "    # Add target variables\n",
    "    row[\"Validity\"] = 1 if combo[\"Validity\"] == \"Valid\" else 0\n",
    "    row[\"Rating\"] = combo[\"Rating\"]\n",
    "    structured_data.append(row)\n",
    "\n",
    "# Create DataFrame\n",
    "df = pd.DataFrame(structured_data)\n",
    "df\n"
   ]
  },
  {
   "cell_type": "code",
   "execution_count": 46,
   "metadata": {
    "id": "sZyseDDfJwG7"
   },
   "outputs": [
    {
     "data": {
      "text/plain": [
       "{0: 'unlabelled',\n",
       " 1: 'shirt, blouse',\n",
       " 2: 'top, t-shirt, sweatshirt',\n",
       " 3: 'sweater',\n",
       " 4: 'cardigan',\n",
       " 5: 'jacket',\n",
       " 6: 'vest',\n",
       " 7: 'pants',\n",
       " 8: 'shorts',\n",
       " 9: 'skirt',\n",
       " 10: 'coat',\n",
       " 11: 'dress',\n",
       " 12: 'jumpsuit',\n",
       " 13: 'cape',\n",
       " 14: 'glasses',\n",
       " 15: 'hat',\n",
       " 16: 'headband, head covering, hair accessory',\n",
       " 17: 'tie',\n",
       " 18: 'glove',\n",
       " 19: 'watch',\n",
       " 20: 'belt',\n",
       " 21: 'leg warmer',\n",
       " 22: 'tights, stockings',\n",
       " 23: 'sock',\n",
       " 24: 'shoe',\n",
       " 25: 'bag, wallet',\n",
       " 26: 'scarf',\n",
       " 27: 'umbrella',\n",
       " 28: 'hood',\n",
       " 29: 'collar',\n",
       " 30: 'lapel',\n",
       " 31: 'epaulette',\n",
       " 32: 'sleeve',\n",
       " 33: 'pocket',\n",
       " 34: 'neckline',\n",
       " 35: 'buckle',\n",
       " 36: 'zipper',\n",
       " 37: 'applique',\n",
       " 38: 'bead',\n",
       " 39: 'bow',\n",
       " 40: 'flower',\n",
       " 41: 'fringe',\n",
       " 42: 'ribbon',\n",
       " 43: 'rivet',\n",
       " 44: 'ruffle',\n",
       " 45: 'sequin',\n",
       " 46: 'tassel'}"
      ]
     },
     "execution_count": 46,
     "metadata": {},
     "output_type": "execute_result"
    }
   ],
   "source": [
    "ds_cat = categories.copy()\n",
    "categories"
   ]
  },
  {
   "cell_type": "code",
   "execution_count": 47,
   "metadata": {},
   "outputs": [],
   "source": [
    "del ds_cat[0]"
   ]
  },
  {
   "cell_type": "code",
   "execution_count": 50,
   "metadata": {},
   "outputs": [],
   "source": [
    "ds_cat[52] = ds_cat[1]\n",
    "ds_cat[53] = ds_cat[2]\n",
    "ds_cat[1] = \"t-shirts\"\n",
    "ds_cat[2] = \"sweatshirts\"\n",
    "ds_cat[49] = \"top\"\n",
    "ds_cat[50] = \"shirt\"\n",
    "ds_cat[51] = \"blouse\""
   ]
  },
  {
   "cell_type": "code",
   "execution_count": 51,
   "metadata": {},
   "outputs": [
    {
     "data": {
      "text/plain": [
       "dict_items([(1, 't-shirts'), (2, 'sweatshirts'), (3, 'sweater'), (4, 'cardigan'), (5, 'jacket'), (6, 'vest'), (7, 'pants'), (8, 'shorts'), (9, 'skirt'), (10, 'coat'), (11, 'dress'), (12, 'jumpsuit'), (13, 'cape'), (14, 'glasses'), (15, 'hat'), (16, 'headband, head covering, hair accessory'), (17, 'tie'), (18, 'glove'), (19, 'watch'), (20, 'belt'), (21, 'leg warmer'), (22, 'tights, stockings'), (23, 'sock'), (24, 'shoe'), (25, 'bag, wallet'), (26, 'scarf'), (27, 'umbrella'), (28, 'hood'), (29, 'collar'), (30, 'lapel'), (31, 'epaulette'), (32, 'sleeve'), (33, 'pocket'), (34, 'neckline'), (35, 'buckle'), (36, 'zipper'), (37, 'applique'), (38, 'bead'), (39, 'bow'), (40, 'flower'), (41, 'fringe'), (42, 'ribbon'), (43, 'rivet'), (44, 'ruffle'), (45, 'sequin'), (46, 'tassel'), (52, 'shirt, blouse'), (53, 'top, t-shirt, sweatshirt'), (49, 'top'), (50, 'shirt'), (51, 'blouse')])"
      ]
     },
     "execution_count": 51,
     "metadata": {},
     "output_type": "execute_result"
    }
   ],
   "source": [
    "ds_cat.items()"
   ]
  },
  {
   "cell_type": "code",
   "execution_count": 52,
   "metadata": {},
   "outputs": [],
   "source": [
    "other_cat = [\"color\", \"style\"]"
   ]
  },
  {
   "cell_type": "code",
   "execution_count": 53,
   "metadata": {},
   "outputs": [],
   "source": [
    "def create_columns():\n",
    "    columns = []\n",
    "    for idx, item in list(ds_cat.items()):\n",
    "        if idx in [1, 2]:\n",
    "            continue\n",
    "        it_col = []\n",
    "        it_col.append(f\"item {idx} type\")\n",
    "        for i in other_cat:\n",
    "            it_col.append(f\"item {idx} {i}\")\n",
    "        columns.extend(it_col)\n",
    "    return columns\n",
    "    \n"
   ]
  },
  {
   "cell_type": "code",
   "execution_count": 54,
   "metadata": {},
   "outputs": [],
   "source": [
    "fash_col = create_columns()"
   ]
  },
  {
   "cell_type": "code",
   "execution_count": 27,
   "metadata": {},
   "outputs": [
    {
     "data": {
      "text/plain": [
       "['item 3 type',\n",
       " 'item 3 color',\n",
       " 'item 3 style',\n",
       " 'item 4 type',\n",
       " 'item 4 color',\n",
       " 'item 4 style',\n",
       " 'item 5 type',\n",
       " 'item 5 color',\n",
       " 'item 5 style',\n",
       " 'item 6 type',\n",
       " 'item 6 color',\n",
       " 'item 6 style',\n",
       " 'item 7 type',\n",
       " 'item 7 color',\n",
       " 'item 7 style',\n",
       " 'item 8 type',\n",
       " 'item 8 color',\n",
       " 'item 8 style',\n",
       " 'item 9 type',\n",
       " 'item 9 color',\n",
       " 'item 9 style',\n",
       " 'item 10 type',\n",
       " 'item 10 color',\n",
       " 'item 10 style',\n",
       " 'item 11 type',\n",
       " 'item 11 color',\n",
       " 'item 11 style',\n",
       " 'item 12 type',\n",
       " 'item 12 color',\n",
       " 'item 12 style',\n",
       " 'item 13 type',\n",
       " 'item 13 color',\n",
       " 'item 13 style',\n",
       " 'item 14 type',\n",
       " 'item 14 color',\n",
       " 'item 14 style',\n",
       " 'item 15 type',\n",
       " 'item 15 color',\n",
       " 'item 15 style',\n",
       " 'item 16 type',\n",
       " 'item 16 color',\n",
       " 'item 16 style',\n",
       " 'item 17 type',\n",
       " 'item 17 color',\n",
       " 'item 17 style',\n",
       " 'item 18 type',\n",
       " 'item 18 color',\n",
       " 'item 18 style',\n",
       " 'item 19 type',\n",
       " 'item 19 color',\n",
       " 'item 19 style',\n",
       " 'item 20 type',\n",
       " 'item 20 color',\n",
       " 'item 20 style',\n",
       " 'item 21 type',\n",
       " 'item 21 color',\n",
       " 'item 21 style',\n",
       " 'item 22 type',\n",
       " 'item 22 color',\n",
       " 'item 22 style',\n",
       " 'item 23 type',\n",
       " 'item 23 color',\n",
       " 'item 23 style',\n",
       " 'item 24 type',\n",
       " 'item 24 color',\n",
       " 'item 24 style',\n",
       " 'item 25 type',\n",
       " 'item 25 color',\n",
       " 'item 25 style',\n",
       " 'item 26 type',\n",
       " 'item 26 color',\n",
       " 'item 26 style',\n",
       " 'item 27 type',\n",
       " 'item 27 color',\n",
       " 'item 27 style',\n",
       " 'item 28 type',\n",
       " 'item 28 color',\n",
       " 'item 28 style',\n",
       " 'item 29 type',\n",
       " 'item 29 color',\n",
       " 'item 29 style',\n",
       " 'item 30 type',\n",
       " 'item 30 color',\n",
       " 'item 30 style',\n",
       " 'item 31 type',\n",
       " 'item 31 color',\n",
       " 'item 31 style',\n",
       " 'item 32 type',\n",
       " 'item 32 color',\n",
       " 'item 32 style',\n",
       " 'item 33 type',\n",
       " 'item 33 color',\n",
       " 'item 33 style',\n",
       " 'item 34 type',\n",
       " 'item 34 color',\n",
       " 'item 34 style',\n",
       " 'item 35 type',\n",
       " 'item 35 color',\n",
       " 'item 35 style',\n",
       " 'item 36 type',\n",
       " 'item 36 color',\n",
       " 'item 36 style',\n",
       " 'item 37 type',\n",
       " 'item 37 color',\n",
       " 'item 37 style',\n",
       " 'item 38 type',\n",
       " 'item 38 color',\n",
       " 'item 38 style',\n",
       " 'item 39 type',\n",
       " 'item 39 color',\n",
       " 'item 39 style',\n",
       " 'item 40 type',\n",
       " 'item 40 color',\n",
       " 'item 40 style',\n",
       " 'item 41 type',\n",
       " 'item 41 color',\n",
       " 'item 41 style',\n",
       " 'item 42 type',\n",
       " 'item 42 color',\n",
       " 'item 42 style',\n",
       " 'item 43 type',\n",
       " 'item 43 color',\n",
       " 'item 43 style',\n",
       " 'item 44 type',\n",
       " 'item 44 color',\n",
       " 'item 44 style',\n",
       " 'item 45 type',\n",
       " 'item 45 color',\n",
       " 'item 45 style',\n",
       " 'item 46 type',\n",
       " 'item 46 color',\n",
       " 'item 46 style',\n",
       " 'item 47 type',\n",
       " 'item 47 color',\n",
       " 'item 47 style',\n",
       " 'item 48 type',\n",
       " 'item 48 color',\n",
       " 'item 48 style',\n",
       " 'item 49 type',\n",
       " 'item 49 color',\n",
       " 'item 49 style',\n",
       " 'item 50 type',\n",
       " 'item 50 color',\n",
       " 'item 50 style',\n",
       " 'item 51 type',\n",
       " 'item 51 color',\n",
       " 'item 51 style']"
      ]
     },
     "execution_count": 27,
     "metadata": {},
     "output_type": "execute_result"
    }
   ],
   "source": [
    "fash_col"
   ]
  },
  {
   "cell_type": "code",
   "execution_count": null,
   "metadata": {},
   "outputs": [],
   "source": []
  }
 ],
 "metadata": {
  "colab": {
   "authorship_tag": "ABX9TyMllrWXATUTIfh55586QJGH",
   "include_colab_link": true,
   "provenance": []
  },
  "kernelspec": {
   "display_name": "venv",
   "language": "python",
   "name": "python3"
  },
  "language_info": {
   "codemirror_mode": {
    "name": "ipython",
    "version": 3
   },
   "file_extension": ".py",
   "mimetype": "text/x-python",
   "name": "python",
   "nbconvert_exporter": "python",
   "pygments_lexer": "ipython3",
   "version": "3.12.1"
  }
 },
 "nbformat": 4,
 "nbformat_minor": 0
}
