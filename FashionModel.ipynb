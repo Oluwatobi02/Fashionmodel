{
  "nbformat": 4,
  "nbformat_minor": 0,
  "metadata": {
    "colab": {
      "provenance": [],
      "authorship_tag": "ABX9TyMllrWXATUTIfh55586QJGH",
      "include_colab_link": true
    },
    "kernelspec": {
      "name": "python3",
      "display_name": "Python 3"
    },
    "language_info": {
      "name": "python"
    }
  },
  "cells": [
    {
      "cell_type": "markdown",
      "metadata": {
        "id": "view-in-github",
        "colab_type": "text"
      },
      "source": [
        "<a href=\"https://colab.research.google.com/github/Oluwatobi02/Fashionmodel/blob/main/FashionModel.ipynb\" target=\"_parent\"><img src=\"https://colab.research.google.com/assets/colab-badge.svg\" alt=\"Open In Colab\"/></a>"
      ]
    },
    {
      "cell_type": "code",
      "execution_count": null,
      "metadata": {
        "colab": {
          "base_uri": "https://localhost:8080/"
        },
        "id": "JLboQUZHOYrL",
        "outputId": "9ee6e7b0-9222-44ef-9e9b-6d56dd7e190f"
      },
      "outputs": [
        {
          "output_type": "stream",
          "name": "stdout",
          "text": [
            "Requirement already satisfied: torch in /usr/local/lib/python3.10/dist-packages (2.5.1+cu121)\n",
            "Requirement already satisfied: transformers in /usr/local/lib/python3.10/dist-packages (4.46.2)\n",
            "Requirement already satisfied: pillow in /usr/local/lib/python3.10/dist-packages (11.0.0)\n",
            "Requirement already satisfied: matplotlib in /usr/local/lib/python3.10/dist-packages (3.8.0)\n",
            "Requirement already satisfied: filelock in /usr/local/lib/python3.10/dist-packages (from torch) (3.16.1)\n",
            "Requirement already satisfied: typing-extensions>=4.8.0 in /usr/local/lib/python3.10/dist-packages (from torch) (4.12.2)\n",
            "Requirement already satisfied: networkx in /usr/local/lib/python3.10/dist-packages (from torch) (3.4.2)\n",
            "Requirement already satisfied: jinja2 in /usr/local/lib/python3.10/dist-packages (from torch) (3.1.4)\n",
            "Requirement already satisfied: fsspec in /usr/local/lib/python3.10/dist-packages (from torch) (2024.10.0)\n",
            "Requirement already satisfied: sympy==1.13.1 in /usr/local/lib/python3.10/dist-packages (from torch) (1.13.1)\n",
            "Requirement already satisfied: mpmath<1.4,>=1.1.0 in /usr/local/lib/python3.10/dist-packages (from sympy==1.13.1->torch) (1.3.0)\n",
            "Requirement already satisfied: huggingface-hub<1.0,>=0.23.2 in /usr/local/lib/python3.10/dist-packages (from transformers) (0.26.2)\n",
            "Requirement already satisfied: numpy>=1.17 in /usr/local/lib/python3.10/dist-packages (from transformers) (1.26.4)\n",
            "Requirement already satisfied: packaging>=20.0 in /usr/local/lib/python3.10/dist-packages (from transformers) (24.2)\n",
            "Requirement already satisfied: pyyaml>=5.1 in /usr/local/lib/python3.10/dist-packages (from transformers) (6.0.2)\n",
            "Requirement already satisfied: regex!=2019.12.17 in /usr/local/lib/python3.10/dist-packages (from transformers) (2024.9.11)\n",
            "Requirement already satisfied: requests in /usr/local/lib/python3.10/dist-packages (from transformers) (2.32.3)\n",
            "Requirement already satisfied: safetensors>=0.4.1 in /usr/local/lib/python3.10/dist-packages (from transformers) (0.4.5)\n",
            "Requirement already satisfied: tokenizers<0.21,>=0.20 in /usr/local/lib/python3.10/dist-packages (from transformers) (0.20.3)\n",
            "Requirement already satisfied: tqdm>=4.27 in /usr/local/lib/python3.10/dist-packages (from transformers) (4.66.6)\n",
            "Requirement already satisfied: contourpy>=1.0.1 in /usr/local/lib/python3.10/dist-packages (from matplotlib) (1.3.1)\n",
            "Requirement already satisfied: cycler>=0.10 in /usr/local/lib/python3.10/dist-packages (from matplotlib) (0.12.1)\n",
            "Requirement already satisfied: fonttools>=4.22.0 in /usr/local/lib/python3.10/dist-packages (from matplotlib) (4.55.0)\n",
            "Requirement already satisfied: kiwisolver>=1.0.1 in /usr/local/lib/python3.10/dist-packages (from matplotlib) (1.4.7)\n",
            "Requirement already satisfied: pyparsing>=2.3.1 in /usr/local/lib/python3.10/dist-packages (from matplotlib) (3.2.0)\n",
            "Requirement already satisfied: python-dateutil>=2.7 in /usr/local/lib/python3.10/dist-packages (from matplotlib) (2.8.2)\n",
            "Requirement already satisfied: six>=1.5 in /usr/local/lib/python3.10/dist-packages (from python-dateutil>=2.7->matplotlib) (1.16.0)\n",
            "Requirement already satisfied: MarkupSafe>=2.0 in /usr/local/lib/python3.10/dist-packages (from jinja2->torch) (3.0.2)\n",
            "Requirement already satisfied: charset-normalizer<4,>=2 in /usr/local/lib/python3.10/dist-packages (from requests->transformers) (3.4.0)\n",
            "Requirement already satisfied: idna<4,>=2.5 in /usr/local/lib/python3.10/dist-packages (from requests->transformers) (3.10)\n",
            "Requirement already satisfied: urllib3<3,>=1.21.1 in /usr/local/lib/python3.10/dist-packages (from requests->transformers) (2.2.3)\n",
            "Requirement already satisfied: certifi>=2017.4.17 in /usr/local/lib/python3.10/dist-packages (from requests->transformers) (2024.8.30)\n"
          ]
        }
      ],
      "source": [
        "!pip install torch transformers pillow matplotlib"
      ]
    },
    {
      "cell_type": "code",
      "source": [
        "from transformers import SegformerImageProcessor, AutoModelForSemanticSegmentation\n",
        "from PIL import Image\n",
        "import requests\n",
        "import matplotlib.pyplot as plt\n",
        "import torch.nn as nn"
      ],
      "metadata": {
        "id": "RhUhGzhzOco_"
      },
      "execution_count": null,
      "outputs": []
    },
    {
      "cell_type": "code",
      "source": [
        "processor = SegformerImageProcessor.from_pretrained(\"sayeed99/segformer-b3-fashion\")\n",
        "model = AutoModelForSemanticSegmentation.from_pretrained(\"sayeed99/segformer-b3-fashion\")"
      ],
      "metadata": {
        "id": "ciRA2nDNOgqi"
      },
      "execution_count": null,
      "outputs": []
    },
    {
      "cell_type": "code",
      "source": [
        "url = \"/content/img.jpg\"\n",
        "\n",
        "image = Image.open(url)\n",
        "inputs = processor(images=image, return_tensors=\"pt\")"
      ],
      "metadata": {
        "id": "1UAY0WvKOjig"
      },
      "execution_count": null,
      "outputs": []
    },
    {
      "cell_type": "code",
      "source": [
        "image"
      ],
      "metadata": {
        "id": "fY9F_YqYPapp"
      },
      "execution_count": null,
      "outputs": []
    },
    {
      "cell_type": "code",
      "source": [
        "outputs = model(**inputs)\n",
        "logits = outputs.logits.cpu()\n",
        "\n",
        "upsampled_logits = nn.functional.interpolate(\n",
        "    logits,\n",
        "    size=image.size[::-1],\n",
        "    mode=\"bilinear\",\n",
        "    align_corners=False,\n",
        ")"
      ],
      "metadata": {
        "id": "djGBInVrOqwx"
      },
      "execution_count": null,
      "outputs": []
    },
    {
      "cell_type": "code",
      "source": [
        "pred_seg = upsampled_logits.argmax(dim=1)[0]"
      ],
      "metadata": {
        "id": "LLUNYgY1OtbF"
      },
      "execution_count": null,
      "outputs": []
    },
    {
      "cell_type": "code",
      "source": [
        "plt.imshow(pred_seg)"
      ],
      "metadata": {
        "id": "gdwkQbVcOvNc",
        "colab": {
          "base_uri": "https://localhost:8080/",
          "height": 451
        },
        "outputId": "8c4d68dd-67c5-4610-dc8b-a9fdfc5450f0"
      },
      "execution_count": null,
      "outputs": [
        {
          "output_type": "execute_result",
          "data": {
            "text/plain": [
              "<matplotlib.image.AxesImage at 0x7a6322245150>"
            ]
          },
          "metadata": {},
          "execution_count": 28
        },
        {
          "output_type": "display_data",
          "data": {
            "text/plain": [
              "<Figure size 640x480 with 1 Axes>"
            ],
            "image/png": "[encoded data removed]"
          },
          "metadata": {}
        }
      ]
    },
    {
      "cell_type": "code",
      "source": [
        "import numpy as np\n",
        "unique_cat = np.unique(pred_seg.cpu().numpy())"
      ],
      "metadata": {
        "id": "XIqjAsQTPopE"
      },
      "execution_count": null,
      "outputs": []
    },
    {
      "cell_type": "code",
      "source": [
        "categories = model.config.id2label"
      ],
      "metadata": {
        "id": "7SC7tTgGQpmo"
      },
      "execution_count": null,
      "outputs": []
    },
    {
      "cell_type": "code",
      "source": [
        "for i in unique_cat:\n",
        "  print(categories[i])"
      ],
      "metadata": {
        "id": "2HuXjWaJRrLh",
        "colab": {
          "base_uri": "https://localhost:8080/"
        },
        "outputId": "21ca1c8f-66ae-4044-e735-7f64e305351c"
      },
      "execution_count": null,
      "outputs": [
        {
          "output_type": "stream",
          "name": "stdout",
          "text": [
            "unlabelled\n",
            "top, t-shirt, sweatshirt\n",
            "collar\n",
            "sleeve\n",
            "neckline\n"
          ]
        }
      ]
    },
    {
      "cell_type": "code",
      "source": [
        "categories.values()"
      ],
      "metadata": {
        "id": "WRo48HCwR0in",
        "colab": {
          "base_uri": "https://localhost:8080/"
        },
        "outputId": "6dde5ab6-e132-4f6d-a4e4-f54247b0ae47"
      },
      "execution_count": null,
      "outputs": [
        {
          "output_type": "execute_result",
          "data": {
            "text/plain": [
              "dict_values(['unlabelled', 'shirt, blouse', 'top, t-shirt, sweatshirt', 'sweater', 'cardigan', 'jacket', 'vest', 'pants', 'shorts', 'skirt', 'coat', 'dress', 'jumpsuit', 'cape', 'glasses', 'hat', 'headband, head covering, hair accessory', 'tie', 'glove', 'watch', 'belt', 'leg warmer', 'tights, stockings', 'sock', 'shoe', 'bag, wallet', 'scarf', 'umbrella', 'hood', 'collar', 'lapel', 'epaulette', 'sleeve', 'pocket', 'neckline', 'buckle', 'zipper', 'applique', 'bead', 'bow', 'flower', 'fringe', 'ribbon', 'rivet', 'ruffle', 'sequin', 'tassel'])"
            ]
          },
          "metadata": {},
          "execution_count": 12
        }
      ]
    },
    {
      "cell_type": "code",
      "source": [
        "from transformers import ViltProcessor, ViltForQuestionAnswering\n",
        "import requests\n",
        "from PIL import Image\n",
        "\n",
        "# prepare image + question\n",
        "image = Image.open('/content/IMG_8303.jpg')\n",
        "text = \"what is the color of the socks?\"\n",
        "\n",
        "processor = ViltProcessor.from_pretrained(\"yanka9/vilt_finetuned_deepfashionVQA_v2\")\n",
        "model = ViltForQuestionAnswering.from_pretrained(\"yanka9/vilt_finetuned_deepfashionVQA_v2\")\n",
        "\n",
        "# prepare inputs\n",
        "encoding = processor(image, text, return_tensors=\"pt\")\n",
        "\n",
        "# forward pass\n",
        "outputs = model(**encoding)\n",
        "logits = outputs.logits\n",
        "idx = logits.argmax(-1).item()\n",
        "print(\"Answer:\", model.config.id2label[idx])\n"
      ],
      "metadata": {
        "id": "tU59XsYsUbPt",
        "colab": {
          "base_uri": "https://localhost:8080/"
        },
        "outputId": "c5f6f523-1aec-4208-d01b-cba70e8102cb"
      },
      "execution_count": null,
      "outputs": [
        {
          "output_type": "stream",
          "name": "stdout",
          "text": [
            "Answer: blue\n"
          ]
        }
      ]
    },
    {
      "cell_type": "code",
      "source": [
        "import pandas as pd\n",
        "\n",
        "# Example data: list of combinations\n",
        "data = [\n",
        "    {\n",
        "        \"File Name\": \"combo1.jpg\",\n",
        "        \"Items\": [\n",
        "            {\"Type\": \"Shirt\", \"Color\": \"Blue\", \"Style\": \"Casual\"},\n",
        "            {\"Type\": \"Pants\", \"Color\": \"Black\", \"Style\": \"Formal\"}\n",
        "        ],\n",
        "        \"Validity\": \"Valid\",\n",
        "        \"Rating\": 8\n",
        "    },\n",
        "    {\n",
        "        \"File Name\": \"combo2.jpg\",\n",
        "        \"Items\": [\n",
        "            {\"Type\": \"Hoodie\", \"Color\": \"Grey\", \"Style\": \"Casual\"},\n",
        "            {\"Type\": \"Jeans\", \"Color\": \"Dark Blue\", \"Style\": \"Casual\"},\n",
        "            {\"Type\": \"Watch\", \"Color\": \"Silver\", \"Style\": \"Formal\"}\n",
        "        ],\n",
        "        \"Validity\": \"Invalid\",\n",
        "        \"Rating\": 4\n",
        "    }\n",
        "]\n",
        "df = pd.DataFrame(data)\n",
        "# Define max number of items\n",
        "max_items = 5\n",
        "\n",
        "# Initialize structured rows\n",
        "structured_data = []\n",
        "for combo in data:\n",
        "    row = {\"File Name\": combo[\"File Name\"]}\n",
        "    # Add each item's attributes to fixed columns\n",
        "    for i in range(max_items):\n",
        "        if i < len(combo[\"Items\"]):  # Populate existing items\n",
        "            item = combo[\"Items\"][i]\n",
        "            row[f\"Item{i+1}_Type\"] = item[\"Type\"]\n",
        "            row[f\"Item{i+1}_Color\"] = item[\"Color\"]\n",
        "            row[f\"Item{i+1}_Style\"] = item[\"Style\"]\n",
        "        else:  # Fill placeholders for missing items\n",
        "            row[f\"Item{i+1}_Type\"] = \"None\"\n",
        "            row[f\"Item{i+1}_Color\"] = \"None\"\n",
        "            row[f\"Item{i+1}_Style\"] = \"None\"\n",
        "    # Add target variables\n",
        "    row[\"Validity\"] = 1 if combo[\"Validity\"] == \"Valid\" else 0\n",
        "    row[\"Rating\"] = combo[\"Rating\"]\n",
        "    structured_data.append(row)\n",
        "\n",
        "# Create DataFrame\n",
        "df = pd.DataFrame(structured_data)\n",
        "df\n"
      ],
      "metadata": {
        "id": "zqHwO0BdwwSw"
      },
      "execution_count": null,
      "outputs": []
    },
    {
      "cell_type": "code",
      "source": [],
      "metadata": {
        "id": "sZyseDDfJwG7"
      },
      "execution_count": null,
      "outputs": []
    }
  ]
}